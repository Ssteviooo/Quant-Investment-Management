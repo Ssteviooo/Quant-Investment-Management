{
 "cells": [
  {
   "cell_type": "markdown",
   "metadata": {},
   "source": [
    "# <span style=\"color:blue\">Homework 1</span>\n",
    "## Finance 372 - Prof Travis Johnson"
   ]
  },
  {
   "cell_type": "markdown",
   "metadata": {},
   "source": [
    "### Due 11:59pm on Wednesday 1/25/22"
   ]
  },
  {
   "cell_type": "markdown",
   "metadata": {},
   "source": [
    "**Videos**: Programming skills you'll need for this assignment are covered in videos 1 through 8 on the YouTube channel https://www.youtube.com/channel/UCm8Lrbs8DkIZ8OHa0VpK2hQ"
   ]
  },
  {
   "cell_type": "markdown",
   "metadata": {},
   "source": [
    "**Rules**: you must complete this assignment on your own but are allowed to consult lecture notes, the class YouTube channel, other internet resources, and other students via the Discord Channel. If you are using code copies from a website, cite that website. You are still responsible for the quality of the code submitted - it's *your* fault if you copy an unreliable resource"
   ]
  },
  {
   "cell_type": "markdown",
   "metadata": {},
   "source": [
    "**Deliverables**: submit a .html copy (File -> Export Notebook As -> Export Notebook to HTML). The HTML file must be readable and include all the output you want us to grade. We will **not** run your code for you, and you will **not** receive credit for solutions that are in code format but do not have readable output in the HTML file."
   ]
  },
  {
   "cell_type": "markdown",
   "metadata": {},
   "source": [
    "## Solution by: <span style=\"color:orange\">Siyuan Yang SY9734</span>"
   ]
  },
  {
   "cell_type": "markdown",
   "metadata": {},
   "source": [
    "## <span style=\"color:blue\">Task 1</span>: Load MSFT.csv into a DataFrame and show a preview of its content"
   ]
  },
  {
   "cell_type": "code",
   "execution_count": 275,
   "metadata": {},
   "outputs": [
    {
     "data": {
      "text/plain": [
       "<bound method NDFrame.describe of            Date        Open        High         Low       Close   Adj Close  \\\n",
       "0      1/2/2020  158.779999  160.729996  158.330002  160.619995  158.936279   \n",
       "1      1/3/2020  158.320007  159.949997  158.059998  158.619995  156.957260   \n",
       "2      1/6/2020  157.080002  159.100006  156.509995  159.029999  157.362961   \n",
       "3      1/7/2020  159.320007  159.669998  157.320007  157.580002  155.928177   \n",
       "4      1/8/2020  158.929993  160.800003  157.949997  160.089996  158.411835   \n",
       "..          ...         ...         ...         ...         ...         ...   \n",
       "247  12/23/2020  223.110001  223.559998  220.800003  221.020004  221.020004   \n",
       "248  12/24/2020  221.419998  223.610001  221.199997  222.750000  222.750000   \n",
       "249  12/28/2020  224.449997  226.029999  223.020004  224.960007  224.960007   \n",
       "250  12/29/2020  226.309998  227.179993  223.580002  224.149994  224.149994   \n",
       "251  12/30/2020  225.229996  225.630005  221.470001  221.679993  221.679993   \n",
       "\n",
       "       Volume  \n",
       "0    22622100  \n",
       "1    21116200  \n",
       "2    20813700  \n",
       "3    21634100  \n",
       "4    27746500  \n",
       "..        ...  \n",
       "247  18699600  \n",
       "248  10550600  \n",
       "249  17933500  \n",
       "250  17403200  \n",
       "251  20272300  \n",
       "\n",
       "[252 rows x 7 columns]>"
      ]
     },
     "execution_count": 275,
     "metadata": {},
     "output_type": "execute_result"
    }
   ],
   "source": [
    "import pandas as pd\n",
    "df = pd.read_csv('MSFT.csv')\n",
    "df.head\n",
    "df.tail\n",
    "df.describe"
   ]
  },
  {
   "cell_type": "markdown",
   "metadata": {},
   "source": [
    "## <span style=\"color:blue\">Task 2</span>: Plot MSFT's adjusted close over 2020"
   ]
  },
  {
   "cell_type": "code",
   "execution_count": 274,
   "metadata": {},
   "outputs": [
    {
     "data": {
      "text/plain": [
       "Text(0.5, 1.0, \"MSFT's Adjusted Close Prices over 2020\")"
      ]
     },
     "execution_count": 274,
     "metadata": {},
     "output_type": "execute_result"
    },
    {
     "data": {
      "image/png": "[encoded data removed]",
      "text/plain": [
       "<Figure size 432x288 with 1 Axes>"
      ]
     },
     "metadata": {
      "needs_background": "light"
     },
     "output_type": "display_data"
    }
   ],
   "source": [
    "import matplotlib.pyplot as plt\n",
    "df = pd.read_csv('MSFT.csv')\n",
    "df['Date'] = pd.to_datetime(df['Date'])\n",
    "#df_2020 = df[df['Date'].str.contain(2020)]\n",
    "plt.plot(df['Date'],df['Adj Close'])\n",
    "plt.xlabel(\"Date\")\n",
    "plt.ylabel(\"Adjusted Close Price\")\n",
    "plt.title(\"MSFT's Adjusted Close Prices over 2020\")"
   ]
  },
  {
   "cell_type": "markdown",
   "metadata": {},
   "source": [
    "## <span style=\"color:blue\">Task 3</span>: Calculate MSFT's daily returns from adjusted close prices. Using these daily returns, find and present:\n",
    "- Arithmetic average daily return (in annualized % units)\n",
    "- Geometric average daily return (in annualized % units)\n",
    "- Standard deviation of daily returns (in annualized % units)\n",
    "- Sharpe Ratio of daily returns, (in annualized % units)\n",
    "\n",
    "When calculating the Sharpe Ratio, it's safe in this instance to assume the risk-free rate is 0%."
   ]
  },
  {
   "cell_type": "markdown",
   "metadata": {},
   "source": [
    "Note that the `gmean` function from the videos requires no `NaN` values. A quick way to make this happen is using the `dropna()` function (https://pandas.pydata.org/pandas-docs/stable/reference/api/pandas.DataFrame.dropna.html)"
   ]
  },
  {
   "cell_type": "code",
   "execution_count": 287,
   "metadata": {},
   "outputs": [
    {
     "name": "stdout",
     "output_type": "stream",
     "text": [
      "Arithmetic Average: 43.1%\n",
      "Standard Deviation: 44.0%\n",
      "Geometric Means: 39.7%\n",
      "Sharpe Ratio: 97.92%\n"
     ]
    }
   ],
   "source": [
    "# Solution to Task 3\n",
    "import pandas as pd\n",
    "import numpy as np\n",
    "import math\n",
    "import scipy.stats as stats\n",
    "\n",
    "df = pd.read_csv('MSFT.csv')\n",
    "df['Returns'] = df['Adj Close'].pct_change()\n",
    "ri = df.loc[:,'Returns']\n",
    "ann_arith_mean = ri.mean()*252\n",
    "ann_std = ri.std()*(252**0.5)\n",
    "ann_ge_mean = stats.gmean(ri.dropna()+1)**252-1\n",
    "sr = ann_arith_mean/ann_std\n",
    "print('Arithmetic Average: {:.1f}%'.format(100*ann_arith_mean))\n",
    "print('Standard Deviation: {:.1f}%'.format(100*ann_std))\n",
    "print('Geometric Means: {:.1f}%'.format(100*ann_ge_mean)) \n",
    "print('Sharpe Ratio: {:.2f}%'.format(100*sr))"
   ]
  },
  {
   "cell_type": "markdown",
   "metadata": {},
   "source": [
    "## <span style=\"color:blue\">Task 4</span>: Create and display a new DataFrame containing only days on which MSFT paid a dividend\n",
    "\n",
    "You can back this out by comparing returns calculated using `adjusted close` prices to those calculated using `close` prices. When this difference is non-trivial, there was a dividend. Feel free to confirm the specific dates by looking them up online, but present a solution here that only relies on the provided `MSFT.csv` data"
   ]
  },
  {
   "cell_type": "code",
   "execution_count": 288,
   "metadata": {},
   "outputs": [
    {
     "name": "stdout",
     "output_type": "stream",
     "text": [
      "           Date        Open        High         Low       Close   Adj Close  \\\n",
      "32    2/19/2020  188.059998  188.179993  186.470001  187.279999  185.822998   \n",
      "96    5/20/2020  184.809998  185.850006  183.940002  185.660004  184.728653   \n",
      "159   8/19/2020  211.490005  212.100006  209.250000  209.699997  209.152420   \n",
      "223  11/18/2020  213.649994  215.169998  210.929993  211.080002  211.080002   \n",
      "\n",
      "       Volume  return_adj  return_close  return_diff  \n",
      "32   29997500    0.002999      0.000267       0.0027  \n",
      "96   31261300    0.013871      0.011055       0.0028  \n",
      "159  27627600   -0.006067     -0.008464       0.0024  \n",
      "223  28372800   -0.013184     -0.015761       0.0026  \n"
     ]
    }
   ],
   "source": [
    "# Solution to Task 4\n",
    "import pandas as pd\n",
    "df = pd.read_csv(\"MSFT.csv\")\n",
    "df[\"return_adj\"] = df[\"Adj Close\"].pct_change()\n",
    "df[\"return_close\"] = df[\"Close\"].pct_change()\n",
    "df[\"return_diff\"] = df[\"return_adj\"].round(decimals=4).dropna().sub(df[\"return_close\"].round(decimals=4).dropna())\n",
    "df_div = df[df[\"return_diff\"] != 0]\n",
    "print(df_div.dropna())\n",
    "\n",
    "\n"
   ]
  },
  {
   "cell_type": "markdown",
   "metadata": {},
   "source": [
    "## <span style=\"color:blue\">Task 5</span>: Find and tabulate the five worst and five best daily returns in 2020 for MSFT"
   ]
  },
  {
   "cell_type": "code",
   "execution_count": 319,
   "metadata": {},
   "outputs": [
    {
     "name": "stdout",
     "output_type": "stream",
     "text": [
      "          Date   Returns\n",
      "50   3/16/2020 -0.147390\n",
      "48   3/12/2020 -0.094838\n",
      "38   2/27/2020 -0.070459\n",
      "45    3/9/2020 -0.067773\n",
      "170   9/3/2020 -0.061947\n",
      "         Date   Returns\n",
      "49  3/13/2020  0.142169\n",
      "56  3/24/2020  0.090896\n",
      "51  3/17/2020  0.082336\n",
      "65   4/6/2020  0.074368\n",
      "60  3/30/2020  0.070341\n"
     ]
    }
   ],
   "source": [
    "import pandas as pd\n",
    "df = pd.read_csv('MSFT.csv')\n",
    "df['Returns'] = df['Adj Close'].pct_change()\n",
    "worst_returns = df.sort_values(by='Returns')[:5]\n",
    "worst_returns = worst_returns.loc[:, ['Date', 'Returns']]\n",
    "print(worst_returns)\n",
    "best_returns = df.sort_values(by='Returns', ascending=False)[:5]\n",
    "best_returns = best_returns.loc[:, ['Date', 'Returns']]\n",
    "print(best_returns)\n",
    "# head(5) Tail(5)"
   ]
  },
  {
   "cell_type": "markdown",
   "metadata": {},
   "source": [
    "## <span style=\"color:blue\">Task 6</span>: Create a new column in the MSFT DataFrame containing 'Log Volume', defined as the natural log of daily volume, and preview the updated DataFrame"
   ]
  },
  {
   "cell_type": "code",
   "execution_count": 320,
   "metadata": {},
   "outputs": [
    {
     "name": "stdout",
     "output_type": "stream",
     "text": [
      "           Date        Open        High         Low       Close   Adj Close  \\\n",
      "0      1/2/2020  158.779999  160.729996  158.330002  160.619995  158.936279   \n",
      "1      1/3/2020  158.320007  159.949997  158.059998  158.619995  156.957260   \n",
      "2      1/6/2020  157.080002  159.100006  156.509995  159.029999  157.362961   \n",
      "3      1/7/2020  159.320007  159.669998  157.320007  157.580002  155.928177   \n",
      "4      1/8/2020  158.929993  160.800003  157.949997  160.089996  158.411835   \n",
      "..          ...         ...         ...         ...         ...         ...   \n",
      "247  12/23/2020  223.110001  223.559998  220.800003  221.020004  221.020004   \n",
      "248  12/24/2020  221.419998  223.610001  221.199997  222.750000  222.750000   \n",
      "249  12/28/2020  224.449997  226.029999  223.020004  224.960007  224.960007   \n",
      "250  12/29/2020  226.309998  227.179993  223.580002  224.149994  224.149994   \n",
      "251  12/30/2020  225.229996  225.630005  221.470001  221.679993  221.679993   \n",
      "\n",
      "       Volume  Log Volume  \n",
      "0    22622100   16.934438  \n",
      "1    21116200   16.865551  \n",
      "2    20813700   16.851122  \n",
      "3    21634100   16.889781  \n",
      "4    27746500   17.138620  \n",
      "..        ...         ...  \n",
      "247  18699600   16.744013  \n",
      "248  10550600   16.171693  \n",
      "249  17933500   16.702181  \n",
      "250  17403200   16.672165  \n",
      "251  20272300   16.824766  \n",
      "\n",
      "[252 rows x 8 columns]\n"
     ]
    }
   ],
   "source": [
    "import pandas as pd\n",
    "import numpy as np\n",
    "df = pd.read_csv('MSFT.csv')\n",
    "df['Log Volume'] = np.log(df['Volume'])\n",
    "print(df)"
   ]
  },
  {
   "cell_type": "markdown",
   "metadata": {},
   "source": [
    "## <span style=\"color:blue\">Task 7</span>: Create a new column in the MSFT DataFrame containing 'Lag 30 Date,' equal to the date 30 calendar days prior to Date, and preview the updated DataFrame"
   ]
  },
  {
   "cell_type": "code",
   "execution_count": 321,
   "metadata": {},
   "outputs": [
    {
     "name": "stdout",
     "output_type": "stream",
     "text": [
      "          Date        Open        High         Low       Close   Adj Close  \\\n",
      "0   2020-01-02  158.779999  160.729996  158.330002  160.619995  158.936279   \n",
      "1   2020-01-03  158.320007  159.949997  158.059998  158.619995  156.957260   \n",
      "2   2020-01-06  157.080002  159.100006  156.509995  159.029999  157.362961   \n",
      "3   2020-01-07  159.320007  159.669998  157.320007  157.580002  155.928177   \n",
      "4   2020-01-08  158.929993  160.800003  157.949997  160.089996  158.411835   \n",
      "..         ...         ...         ...         ...         ...         ...   \n",
      "247 2020-12-23  223.110001  223.559998  220.800003  221.020004  221.020004   \n",
      "248 2020-12-24  221.419998  223.610001  221.199997  222.750000  222.750000   \n",
      "249 2020-12-28  224.449997  226.029999  223.020004  224.960007  224.960007   \n",
      "250 2020-12-29  226.309998  227.179993  223.580002  224.149994  224.149994   \n",
      "251 2020-12-30  225.229996  225.630005  221.470001  221.679993  221.679993   \n",
      "\n",
      "       Volume Lag 30 Date  \n",
      "0    22622100  2019-12-03  \n",
      "1    21116200  2019-12-04  \n",
      "2    20813700  2019-12-07  \n",
      "3    21634100  2019-12-08  \n",
      "4    27746500  2019-12-09  \n",
      "..        ...         ...  \n",
      "247  18699600  2020-11-23  \n",
      "248  10550600  2020-11-24  \n",
      "249  17933500  2020-11-28  \n",
      "250  17403200  2020-11-29  \n",
      "251  20272300  2020-11-30  \n",
      "\n",
      "[252 rows x 8 columns]\n"
     ]
    }
   ],
   "source": [
    "# Solution to Task 7\n",
    "import pandas as pd\n",
    "df = pd.read_csv('MSFT.csv')\n",
    "df['Date'] = df['Date'].astype('datetime64[ns]')\n",
    "df['Lag 30 Date'] = df['Date'] - pd.Timedelta(days=30)\n",
    "print(df)\n",
    "\n",
    "\n"
   ]
  },
  {
   "cell_type": "markdown",
   "metadata": {},
   "source": [
    "## <span style=\"color:blue\">Task 8</span>: Use a regression to calculate the MSFT's $\\alpha$ and market $\\beta$ in 2020"
   ]
  },
  {
   "cell_type": "markdown",
   "metadata": {},
   "source": [
    "- Annualize the $\\alpha$\n",
    "- Also include the **99%** confidence intervals for $\\alpha$ and $\\beta$\n",
    "- Use returns calculated from SPY.csv to proxy for the market index\n",
    "\n",
    "It's safe in this instance to assume the risk-free rate is 0%."
   ]
  },
  {
   "cell_type": "code",
   "execution_count": 376,
   "metadata": {},
   "outputs": [
    {
     "name": "stdout",
     "output_type": "stream",
     "text": [
      "                            OLS Regression Results                            \n",
      "==============================================================================\n",
      "Dep. Variable:                 Return   R-squared:                       0.764\n",
      "Model:                            OLS   Adj. R-squared:                  0.763\n",
      "Method:                 Least Squares   F-statistic:                     807.7\n",
      "Date:                Wed, 25 Jan 2023   Prob (F-statistic):           4.03e-80\n",
      "Time:                        15:29:22   Log-Likelihood:                 725.61\n",
      "No. Observations:                 251   AIC:                            -1447.\n",
      "Df Residuals:                     249   BIC:                            -1440.\n",
      "Df Model:                           1                                         \n",
      "Covariance Type:            nonrobust                                         \n",
      "==============================================================================\n",
      "                 coef    std err          t      P>|t|      [0.025      0.975]\n",
      "------------------------------------------------------------------------------\n",
      "const          0.0007      0.001      0.879      0.380      -0.001       0.002\n",
      "Return         1.1484      0.040     28.420      0.000       1.069       1.228\n",
      "==============================================================================\n",
      "Omnibus:                        7.413   Durbin-Watson:                   1.905\n",
      "Prob(Omnibus):                  0.025   Jarque-Bera (JB):                8.592\n",
      "Skew:                           0.271   Prob(JB):                       0.0136\n",
      "Kurtosis:                       3.726   Cond. No.                         47.5\n",
      "==============================================================================\n",
      "\n",
      "Notes:\n",
      "[1] Standard Errors assume that the covariance matrix of the errors is correctly specified.\n"
     ]
    }
   ],
   "source": [
    "# Solution to Task 8\n",
    "import statsmodels.api as sm\n",
    "import numpy as np\n",
    "import pandas as pd\n",
    "\n",
    "df_msft = pd.read_csv('MSFT.csv')\n",
    "df_spy = pd.read_csv('SPY.csv')\n",
    "df_msft['Return'] = df_msft['Adj Close'].pct_change()\n",
    "df_spy['Return'] = df_spy['Adj Close'].pct_change()\n",
    "r_msft = df_msft.loc[:,'Return']\n",
    "r_spy = df_spy.loc[:,'Return']\n",
    "\n",
    "model = sm.OLS(r_msft.dropna(),sm.add_constant(r_spy.dropna()))\n",
    "results = model.fit()\n",
    "print(results.summary())\n",
    "\n"
   ]
  },
  {
   "cell_type": "code",
   "execution_count": 375,
   "metadata": {},
   "outputs": [
    {
     "name": "stdout",
     "output_type": "stream",
     "text": [
      "Daily alpha: 74.9bp, Annualized alpha: 18.9%\n",
      "Beta: 1.15%\n",
      "99% confidence intervals for 𝛼 and 𝛽 :\n"
     ]
    },
    {
     "data": {
      "text/html": [
       "<div>\n",
       "<style scoped>\n",
       "    .dataframe tbody tr th:only-of-type {\n",
       "        vertical-align: middle;\n",
       "    }\n",
       "\n",
       "    .dataframe tbody tr th {\n",
       "        vertical-align: top;\n",
       "    }\n",
       "\n",
       "    .dataframe thead th {\n",
       "        text-align: right;\n",
       "    }\n",
       "</style>\n",
       "<table border=\"1\" class=\"dataframe\">\n",
       "  <thead>\n",
       "    <tr style=\"text-align: right;\">\n",
       "      <th></th>\n",
       "      <th>0</th>\n",
       "      <th>1</th>\n",
       "    </tr>\n",
       "  </thead>\n",
       "  <tbody>\n",
       "    <tr>\n",
       "      <th>const</th>\n",
       "      <td>-0.001463</td>\n",
       "      <td>0.002961</td>\n",
       "    </tr>\n",
       "    <tr>\n",
       "      <th>Return</th>\n",
       "      <td>1.043510</td>\n",
       "      <td>1.253283</td>\n",
       "    </tr>\n",
       "  </tbody>\n",
       "</table>\n",
       "</div>"
      ],
      "text/plain": [
       "               0         1\n",
       "const  -0.001463  0.002961\n",
       "Return  1.043510  1.253283"
      ]
     },
     "execution_count": 375,
     "metadata": {},
     "output_type": "execute_result"
    }
   ],
   "source": [
    "daily_alpha = results.params['const']\n",
    "print('Daily alpha: {:.1f}bp, Annualized alpha: {:.1f}%'.format(100000*daily_alpha, 100*252*daily_alpha))\n",
    "beta = results.params['Return']\n",
    "print('Beta: {:.2f}%'.format(beta))\n",
    "conf_int_a = results.conf_int(alpha=0.01) \n",
    "print('99% confidence intervals for 𝛼 and 𝛽 :')\n",
    "conf_int_a"
   ]
  },
  {
   "cell_type": "markdown",
   "metadata": {},
   "source": [
    "## <span style=\"color:blue\">Task 9</span>: Evaluate the performance of ARKK by findings its annualized alpha, beta, and Sharpe Ratio since inception. Annualized the alpha and Sharpe Ratio."
   ]
  },
  {
   "cell_type": "code",
   "execution_count": 370,
   "metadata": {},
   "outputs": [
    {
     "name": "stdout",
     "output_type": "stream",
     "text": [
      "            Date       Open       High        Low      Close  Adj Close  \\\n",
      "0     2014-10-31  20.420000  20.420000  20.379999  20.379999  18.544889   \n",
      "1     2014-11-03  20.490000  20.490000  20.350000  20.379999  18.544889   \n",
      "2     2014-11-04  20.200001  20.270000  20.200001  20.260000  18.435699   \n",
      "3     2014-11-05  20.510000  20.510000  20.000000  20.000000  18.199110   \n",
      "4     2014-11-06  20.090000  20.139999  20.070000  20.139999  18.326502   \n",
      "...          ...        ...        ...        ...        ...        ...   \n",
      "2064  2023-01-13  34.661999  36.020000  34.610001  35.990002  35.990002   \n",
      "2065  2023-01-17  36.220001  37.119999  35.470001  37.040001  37.040001   \n",
      "2066  2023-01-18  37.590000  38.009998  35.930000  35.950001  35.950001   \n",
      "2067  2023-01-19  35.304001  35.610001  34.435001  34.790001  34.790001   \n",
      "2068  2023-01-20  35.330002  36.619999  34.810001  36.500000  36.500000   \n",
      "\n",
      "        Volume   Returns  \n",
      "0         2700       NaN  \n",
      "1         2300  0.000000  \n",
      "2         7900 -0.005888  \n",
      "3        14900 -0.012833  \n",
      "4         2000  0.007000  \n",
      "...        ...       ...  \n",
      "2064  26417300  0.014088  \n",
      "2065  19280800  0.029175  \n",
      "2066  29263000 -0.029428  \n",
      "2067  24398300 -0.032267  \n",
      "2068  25045400  0.049152  \n",
      "\n",
      "[2069 rows x 8 columns]\n",
      "                            OLS Regression Results                            \n",
      "==============================================================================\n",
      "Dep. Variable:                Returns   R-squared:                       0.495\n",
      "Model:                            OLS   Adj. R-squared:                  0.494\n",
      "Method:                 Least Squares   F-statistic:                     2022.\n",
      "Date:                Wed, 25 Jan 2023   Prob (F-statistic):          1.91e-308\n",
      "Time:                        15:23:04   Log-Likelihood:                 5509.8\n",
      "No. Observations:                2068   AIC:                        -1.102e+04\n",
      "Df Residuals:                    2066   BIC:                        -1.100e+04\n",
      "Df Model:                           1                                         \n",
      "Covariance Type:            nonrobust                                         \n",
      "==============================================================================\n",
      "                 coef    std err          t      P>|t|      [0.025      0.975]\n",
      "------------------------------------------------------------------------------\n",
      "const      -6.006e-05      0.000     -0.162      0.871      -0.001       0.001\n",
      "Returns        1.4308      0.032     44.962      0.000       1.368       1.493\n",
      "==============================================================================\n",
      "Omnibus:                      158.467   Durbin-Watson:                   1.993\n",
      "Prob(Omnibus):                  0.000   Jarque-Bera (JB):              778.842\n",
      "Skew:                           0.154   Prob(JB):                    7.53e-170\n",
      "Kurtosis:                       5.991   Cond. No.                         85.8\n",
      "==============================================================================\n",
      "\n",
      "Notes:\n",
      "[1] Standard Errors assume that the covariance matrix of the errors is correctly specified.\n"
     ]
    }
   ],
   "source": [
    "import statsmodels.api as sm\n",
    "import pandas as pd\n",
    "\n",
    "df_arkk = pd.read_csv('ARKK.csv')  \n",
    "df_spynew = pd.read_csv('SPY_1423.csv')\n",
    "\n",
    "df_arkk['Returns'] = df_arkk['Adj Close'].pct_change()\n",
    "df_spynew['Returns'] = df_spynew['Adj Close'].pct_change()\n",
    "\n",
    "r_arkk = df_arkk.loc[:,'Returns'].dropna().reset_index(drop=True)\n",
    "r_spynew = df_spynew.loc[:,'Returns'].dropna().reset_index(drop=True)\n",
    "\n",
    "model = sm.OLS(r_arkk, sm.add_constant(r_spynew))\n",
    "results = model.fit()\n",
    "\n",
    "print(df_arkk)\n",
    "print(results.summary())\n",
    "\n"
   ]
  },
  {
   "cell_type": "code",
   "execution_count": 372,
   "metadata": {},
   "outputs": [
    {
     "name": "stdout",
     "output_type": "stream",
     "text": [
      "Daily alpha: -6.0bp, Annualized alpha: -1.5%\n",
      "Beta: 1.43%\n",
      "Sharp Ratio: 40.80%\n"
     ]
    }
   ],
   "source": [
    "daily_alpha = results.params['const']\n",
    "print('Daily alpha: {:.1f}bp, Annualized alpha: {:.1f}%'.format(100000*daily_alpha, 100*252*daily_alpha))\n",
    "beta = results.params['Returns']\n",
    "print('Beta: {:.2f}%'.format(beta))\n",
    "sp = r_arkk.mean()/r_arkk.std()\n",
    "print('Sharp Ratio: {:.2f}%'.format(sp*252**.5*100))\n",
    "\n"
   ]
  },
  {
   "cell_type": "code",
   "execution_count": 368,
   "metadata": {},
   "outputs": [],
   "source": []
  },
  {
   "cell_type": "code",
   "execution_count": null,
   "metadata": {},
   "outputs": [],
   "source": []
  }
 ],
 "metadata": {
  "kernelspec": {
   "display_name": "Python 3 (ipykernel)",
   "language": "python",
   "name": "python3"
  },
  "language_info": {
   "codemirror_mode": {
    "name": "ipython",
    "version": 3
   },
   "file_extension": ".py",
   "mimetype": "text/x-python",
   "name": "python",
   "nbconvert_exporter": "python",
   "pygments_lexer": "ipython3",
   "version": "3.9.12"
  }
 },
 "nbformat": 4,
 "nbformat_minor": 4
}
